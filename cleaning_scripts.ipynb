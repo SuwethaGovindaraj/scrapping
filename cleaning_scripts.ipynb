{
 "cells": [
  {
   "cell_type": "code",
   "execution_count": null,
   "metadata": {},
   "outputs": [],
   "source": [
    "import pandas as pd\n",
    "\n",
    "# Load the cleaned Excel file into a DataFrame\n",
    "df_cleaned = pd.read_excel(\"cleaned_extracted_table_remaining_corrected.xlsx\", header=None)\n",
    "\n",
    "# Drop the first row\n",
    "df_cleaned.drop(index=0, inplace=True)\n",
    "\n",
    "# Function to remove trailing NaN values in each row\n",
    "def remove_trailing_nans(row):\n",
    "    # Convert the row to a list\n",
    "    row_list = row.tolist()\n",
    "    \n",
    "    # Iterate over the list from the end and remove trailing NaNs\n",
    "    while row_list and pd.isna(row_list[-1]):\n",
    "        row_list.pop()\n",
    "    \n",
    "    return row_list\n",
    "\n",
    "# Apply the function to each row\n",
    "df_cleaned = df_cleaned.apply(remove_trailing_nans, axis=1)\n",
    "\n",
    "# Convert the DataFrame back to a uniform shape by re-padding rows with missing values to the same length\n",
    "max_len = df_cleaned.apply(len).max()\n",
    "df_cleaned = df_cleaned.apply(lambda x: x + [None]*(max_len - len(x)), axis=1)\n",
    "\n",
    "# Convert back to a DataFrame\n",
    "df_cleaned = pd.DataFrame(df_cleaned.tolist())\n",
    "\n",
    "# Save the refined DataFrame to a new Excel file\n",
    "df_cleaned.to_excel(\"cleaned_extracted_table_remaining_refined.xlsx\", index=False, header=False)\n",
    "\n",
    "print(\"Trailing NaN values removed and data refined.\")\n"
   ]
  },
  {
   "cell_type": "code",
   "execution_count": null,
   "metadata": {},
   "outputs": [],
   "source": [
    "import pandas as pd\n",
    "\n",
    "# Example headers (replace these with your actual headers)\n",
    "headers = [\n",
    "   \n",
    "]\n",
    "\n",
    "# Assign the headers to the cleaned DataFrame\n",
    "df_cleaned.columns = headers\n",
    "\n",
    "# Optionally, drop any rows where all values are NaN (if necessary)\n",
    "df_cleaned.dropna(how='all', inplace=True)\n",
    "\n",
    "# Save the DataFrame with the new headers to an Excel file\n",
    "df_cleaned.to_excel(\"final_cleaned_table_with_headers.xlsx\", index=False)\n",
    "\n",
    "print(\"Headers assigned and saved to final_cleaned_table_with_headers.xlsx\")\n"
   ]
  }
 ],
 "metadata": {
  "language_info": {
   "name": "python"
  }
 },
 "nbformat": 4,
 "nbformat_minor": 2
}
