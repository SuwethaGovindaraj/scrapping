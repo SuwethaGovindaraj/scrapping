{
 "cells": [
  {
   "cell_type": "code",
   "execution_count": null,
   "metadata": {},
   "outputs": [],
   "source": [
    "import pandas as pd\n",
    "\n",
    "# Assuming df_cleaned is the DataFrame you obtained after scraping and cleaning\n",
    "# Here's how you can drop only trailing NaNs\n",
    "\n",
    "def drop_trailing_nans(row):\n",
    "    # Convert the row to a list\n",
    "    row_list = row.tolist()\n",
    "    # Reverse the list, find the first non-NaN value, and then slice the list to remove trailing NaNs\n",
    "    while row_list and pd.isna(row_list[-1]):\n",
    "        row_list.pop()\n",
    "    return row_list\n",
    "\n",
    "# Apply the function to each row of the DataFrame\n",
    "df_cleaned_trimmed = df_cleaned.apply(drop_trailing_nans, axis=1)\n",
    "\n",
    "# Convert the trimmed rows back into a DataFrame\n",
    "df_cleaned_final = pd.DataFrame(df_cleaned_trimmed.tolist())\n",
    "\n",
    "# Save the cleaned DataFrame to a new Excel file\n",
    "df_cleaned_final.to_excel(\"final_cleaned_table_without_trailing_nans.xlsx\", index=False)\n",
    "\n",
    "print(\"Cleaned DataFrame saved to final_cleaned_table_without_trailing_nans.xlsx\")\n"
   ]
  },
  {
   "cell_type": "code",
   "execution_count": null,
   "metadata": {},
   "outputs": [],
   "source": [
    "import pandas as pd\n",
    "\n",
    "# Example headers (replace these with your actual headers)\n",
    "headers = [\n",
    "   \n",
    "]\n",
    "\n",
    "# Assign the headers to the cleaned DataFrame\n",
    "df_cleaned.columns = headers\n",
    "\n",
    "# Optionally, drop any rows where all values are NaN (if necessary)\n",
    "df_cleaned.dropna(how='all', inplace=True)\n",
    "\n",
    "# Save the DataFrame with the new headers to an Excel file\n",
    "df_cleaned.to_excel(\"final_cleaned_table_with_headers.xlsx\", index=False)\n",
    "\n",
    "print(\"Headers assigned and saved to final_cleaned_table_with_headers.xlsx\")\n"
   ]
  }
 ],
 "metadata": {
  "language_info": {
   "name": "python"
  }
 },
 "nbformat": 4,
 "nbformat_minor": 2
}
